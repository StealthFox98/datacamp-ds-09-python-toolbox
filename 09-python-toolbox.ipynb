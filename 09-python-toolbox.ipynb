{
 "cells": [
  {
   "cell_type": "markdown",
   "id": "d4c6ee67",
   "metadata": {},
   "source": [
    "# Chapter 9. Python toolbox"
   ]
  },
  {
   "cell_type": "markdown",
   "id": "edf9eebd",
   "metadata": {},
   "source": [
    "# 9.1 Using iterators in PythonLand"
   ]
  },
  {
   "cell_type": "markdown",
   "id": "726eb9f3",
   "metadata": {},
   "source": [
    "## Introduction to iterators\n",
    "\n",
    "The reason that we can loop over specific objects is that they are iterables (lists, strings and range objects, among others).\n",
    "\n",
    "- An iterable is an object that has an associated iter method.\n",
    "    - Once this iter method is applied to an iterable, an iterator object is created.\n",
    "- An iterator is defined as an object that has an associated next method that produces the consecutive values.\n",
    "    - To create an iterator from an iterable, all we need to do is use the function iter and pass it the iterable.\n",
    "- Once we have the iterator defined, we pass it to the function next and this returns the first value.\n",
    "    - Calling next again on the iterator returns the next value until there are no values left to return and then it throws us a StopIteration error.\n",
    "\n",
    "```\n",
    "word = 'Da'\n",
    "it = iter(word)\n",
    "\n",
    "next(it)\n",
    "# result = 'D'\n",
    "\n",
    "next(it)\n",
    "# result = 'a'\n",
    "\n",
    "next(it)\n",
    "# StopIteration error displayed\n",
    "```"
   ]
  },
  {
   "cell_type": "markdown",
   "id": "557a7446",
   "metadata": {},
   "source": [
    "### Iterating at once with ``*``\n",
    "\n",
    "- You can also print all values of an iterator in one fell swoop using the star operator, referred to as the splat operator in some circles.\n",
    "- This star operator unpacks all elements of an iterator or an iterable.\n",
    "- Be warned, however, once you do so, you cannot do it again as there are no more values to iterate through. We would have to redefine our iterator to do so.\n",
    "\n",
    "```\n",
    "word = 'Data'\n",
    "it = iter(word)\n",
    "\n",
    "print(*it)\n",
    "# result\n",
    "# D a t a\n",
    "\n",
    "print(*it)\n",
    "# No more values to go through!\n",
    "```"
   ]
  },
  {
   "cell_type": "markdown",
   "id": "0ca988ac",
   "metadata": {},
   "source": [
    "### Iterating over dictionaries\n",
    "\n",
    "- Dictionaries and file connections are iterables as well.\n",
    "- To iterate over the key-value pairs of a Python dictionary, we need to unpack them by applying the items method to the dictionary\n",
    "\n",
    "```\n",
    "pythonistas = {'hugo':'bowne-anderson', 'francis':'castro'}\n",
    "for key, value in pythonistas.items():\n",
    "    print(key, value)\n",
    "# results printed below\n",
    "# hugo bowne-anderson\n",
    "# francis castro\n",
    "```"
   ]
  },
  {
   "cell_type": "markdown",
   "id": "2f4e420d",
   "metadata": {},
   "source": [
    "### Iterating over file connections\n",
    "\n",
    "- File connections are iterables as well.\n",
    "\n",
    "```\n",
    "file = open('file.txt')\n",
    "it = iter(file)\n",
    "\n",
    "print(next(it))\n",
    "# This is the first line\n",
    "\n",
    "print(next(it))\n",
    "# This is the second line\n",
    "```"
   ]
  },
  {
   "cell_type": "markdown",
   "id": "193f3b0c",
   "metadata": {
    "vscode": {
     "languageId": "plaintext"
    }
   },
   "source": [
    "### Iterators as function arguments\n",
    "\n",
    "- There are also functions that take iterators and iterables as arguments. For example, the list() and sum() functions return a list and the sum of elements, respectively.\n",
    "\n",
    "```\n",
    "# Create a range object: values\n",
    "values = range(10, 21)\n",
    "\n",
    "# Print the range object\n",
    "print(values)\n",
    "\n",
    "# Create a list of integers: values_list\n",
    "\n",
    "values_list = list(values)\n",
    "# Print values_list\n",
    "print(values_list)\n",
    "\n",
    "# Get the sum of values: values_sum\n",
    "values_sum = sum(values)\n",
    "\n",
    "# Print values_sum\n",
    "print(values_sum)\n",
    "```"
   ]
  },
  {
   "cell_type": "markdown",
   "id": "a8e8a1b3",
   "metadata": {},
   "source": [
    "## Playing with iterators"
   ]
  },
  {
   "cell_type": "markdown",
   "id": "10dbde1f",
   "metadata": {},
   "source": [
    "### 1. Using enumerate()\n",
    "\n",
    "- ``enumerate()`` is a function that takes any iterable as argument, such as a list, and returns a special enumerate object, which consists of pairs containing the elements of the original iterable, along with their index within the iterable.\n",
    "- We can use the function list to turn this enumerate object into a list of tuples and print it to see what it contains.\n",
    "\n",
    "```\n",
    "avengers = ['hawkeye', 'iron man', 'thor, 'quicksilver']\n",
    "e = enumerate(avengers)\n",
    "\n",
    "print(type(e))\n",
    "# <class 'enumerate'>\n",
    "\n",
    "e_list = list(e)\n",
    "print(e_list)\n",
    "# [(0, 'hawkeye'), (1, 'iron man'), (2, 'thor'), (3, 'quicksilver')]\n",
    "```"
   ]
  },
  {
   "cell_type": "markdown",
   "id": "89ea6f7f",
   "metadata": {},
   "source": [
    "#### 2. enumerate() and unpack\n",
    "\n",
    "- It is also an iterable and we can loop over it while unpacking its elements using the clause for index, value in ``enumerate(iterable)``.\n",
    "- It is the default behavior of enumerate to begin indexing at 0.\n",
    "    - However, you can alter this with a second argument, start,\n",
    "\n",
    "```\n",
    "avengers = ['hawkeye', 'iron man', 'thor', 'quicksilver']\n",
    "for index, value in enumerate(avengers):\n",
    "    print(index, value)\n",
    "# 0 hawkeye\n",
    "# 1 iron man\n",
    "# 2 thor\n",
    "# 3 quicksilver\n",
    "```\n",
    "\n",
    "```\n",
    "avengers = ['hawkeye', 'iron man', 'thor', 'quicksilver']\n",
    "for index, value in enumerate(avengers, start=10):\n",
    "    print(index, value)\n",
    "# 10 hawkeye\n",
    "# 11 iron man\n",
    "# 12 thor\n",
    "# 13 quicksilver\n",
    "```"
   ]
  },
  {
   "cell_type": "markdown",
   "id": "fee9d89a",
   "metadata": {},
   "source": [
    "### 3. Using ``zip()``\n",
    "\n",
    "- ``zip()``, which accepts an arbitrary number of iterables and returns an iterator of tuples.\n",
    "\n",
    "```\n",
    "avengers = ['hawkeye', 'iron man', 'thor', 'quicksilver']\n",
    "names = ['barton', 'stark', 'odinson', 'maximoff']\n",
    "z = zip(avengers, names)\n",
    "\n",
    "print(type(z))\n",
    "# <class 'zip'>\n",
    "\n",
    "z_list = list(z)\n",
    "print(z_list)\n",
    "# [('hawkeye', 'barton'), ('iron man', 'stark'), ('thor', 'odinson'), ('quicksilver', 'maximoff')]\n",
    "```"
   ]
  },
  {
   "cell_type": "markdown",
   "id": "c123dee3",
   "metadata": {},
   "source": [
    "### 4. ``zip()`` and unpack\n",
    "\n",
    "- We could use a for loop to iterate over the zip object and print the tuples.\n",
    "\n",
    "```\n",
    "avengers = ['hawkeye', 'iron man', 'thor', 'quicksilver']\n",
    "names = ['barton', 'stark', 'odinson', 'maximoff']\n",
    "for z1, z2 in zip(avengers, names):\n",
    "    print(z1,z2)\n",
    "\n",
    "# hawkeye barton\n",
    "# iron man stark\n",
    "# thor odinson\n",
    "# quicksilver maximoff\n",
    "```"
   ]
  },
  {
   "cell_type": "markdown",
   "id": "8b33f6eb",
   "metadata": {},
   "source": [
    "### 5. Print zip with ``*``\n",
    "\n",
    "- We could also have used the splat operator to print all the elements!\n",
    "\n",
    "```\n",
    "avengers = ['hawkeye', 'iron man', 'thor', 'quicksilver']\n",
    "names = ['barton', 'stark', 'odinson', 'maximoff']\n",
    "z = zip(avengers, names)\n",
    "print(*z)\n",
    "\n",
    "# hawkeye barton\n",
    "# iron man stark\n",
    "# thor odinson\n",
    "# quicksilver maximoff\n",
    "```"
   ]
  },
  {
   "cell_type": "markdown",
   "id": "8647c62d",
   "metadata": {},
   "source": [
    "## Using iterators to load large files into memory\n",
    "\n",
    "Let's say that you are pulling data from a file, database or API and there's so much of it, just so much data, that you can't hold it in memory.\n",
    "\n",
    "- One solution is to load the data in chunks, perform the desired operation or operations on each chuck, store the result, discard the chunk and then load the next chunk\n",
    "- To surmount this challenge, we are going to use the pandas function ``read_csv`()``, which provides a wonderful option whereby you can load data in chunks and iterate over them.\n",
    "- All we need to do is to specify the chunk using the argument ``chunksize``."
   ]
  },
  {
   "cell_type": "markdown",
   "id": "41401106",
   "metadata": {},
   "source": [
    "### 1. Iterating over data\n",
    "\n",
    "- Use case: a csv with a column called 'x' of numbers and we want to compute the sum of all the numbers in that column.\n",
    "\n",
    "```\n",
    "import pandas as pd\n",
    "result = []\n",
    "for chunk in pd.read.csv('data.csv', chunksize=1000):\n",
    "    result.append(sum(chunk['x']))\n",
    "total = sum(result)\n",
    "print(total)\n",
    "```\n",
    "\n",
    "- Note that we need not have used a list to store each result - we could have initialized total to zero before iterating over the file and added each sum during the iteration procedure\n",
    "\n",
    "```\n",
    "import pandas as pd\n",
    "total = 0\n",
    "for chunk in pd.read.csv('data.csv', chunksize=1000):\n",
    "    total += sum(chunk['x'])\n",
    "print(total)\n",
    "```"
   ]
  },
  {
   "cell_type": "markdown",
   "id": "6c4920fc",
   "metadata": {},
   "source": [
    "# 9.2 List comprehensions and generators"
   ]
  },
  {
   "cell_type": "markdown",
   "id": "a4248369",
   "metadata": {},
   "source": [
    "## List comprehensions\n",
    "\n",
    "- Loops are inefficient, both computationally and in terms of coding time and space\n",
    "- You can create a new list of numbers (i.e. that's the same as the old list, except that each number has 1 added to it) in one line of code."
   ]
  },
  {
   "cell_type": "markdown",
   "id": "acd544d3",
   "metadata": {},
   "source": [
    "###  1. A list comprehension\n",
    "\n",
    "- List comprehensions collapse for loops for building lists into a single line and the required components are:\n",
    "    1) an iterable \n",
    "    2) an iterator variable that represents the members of the iterable\n",
    "    3) an output expression.\n",
    "\n",
    "- Using a for loop\n",
    "\n",
    "```\n",
    "nums = [12, 8, 21, 3, 16]\n",
    "new_nums = []\n",
    "for num in nums:\n",
    "    new_nums.append(num+1)\n",
    "print(new_nums)\n",
    "```\n",
    "\n",
    "- Using a list comprehension\n",
    "\n",
    "```\n",
    "nums = [12, 8, 21, 3, 16]\n",
    "new_nums = [num + 1 for num in nums]\n",
    "print(new_nums)\n",
    "```\n",
    "\n",
    "- List comprehension with ```range()``\n",
    "\n",
    "```\n",
    "new_nums = [num + 1 for num in range(11)]\n",
    "print(new_nums)\n",
    "```"
   ]
  },
  {
   "cell_type": "markdown",
   "id": "593e3f9a",
   "metadata": {},
   "source": [
    "###  2. Nested loops\n",
    "\n",
    "- Within the square brackets, place the desired output expression followed by the two required for loop clauses.\n",
    "- While it keeps to a single line of code, we sacrifice some readability of the code as a tradeoff\n",
    "\n",
    "```\n",
    "pairs_2 = [(num1, num2) for num1 in range (0, 2) for num2 in range(6, 8)]\n",
    "print(pairs_2)\n",
    "# [(0, 6), (0, 7), (1, 6), (1, 7)]\n",
    "```\n",
    "\n",
    "- One of the ways in which lists can be used are in representing multi-dimension objects such as matrices. Matrices can be represented as a list of lists in Python.\n",
    "\n",
    "```\n",
    "# Create a 5 x 5 matrix using a list of lists: matrix\n",
    "matrix = [[col for col in range(5)] for row in range(5)]\n",
    "\n",
    "# Print the matrix\n",
    "for row in matrix:\n",
    "    print(row)\n",
    "```"
   ]
  },
  {
   "cell_type": "markdown",
   "id": "72610df7",
   "metadata": {},
   "source": [
    "## Advanced comprehensions"
   ]
  },
  {
   "cell_type": "markdown",
   "id": "f521cc6a",
   "metadata": {
    "vscode": {
     "languageId": "plaintext"
    }
   },
   "source": [
    "### Conditionals in iterables\n",
    "\n",
    "- We can filter the output of a list comprehension using a conditional on the iterable\n",
    "\n",
    "```\n",
    "[num ** 2 for num in range(10) if num % 2 == 0]\n",
    "# [0, 4, 16, 36, 64]\n",
    "```"
   ]
  },
  {
   "cell_type": "markdown",
   "id": "761ed27f",
   "metadata": {},
   "source": [
    "### Conditionals in the output expression\n",
    "\n",
    "- We can also condition the list comprehension on the output expression.\n",
    "\n",
    "```\n",
    "[num ** 2 if num % 2 = 0 else 0 for num in range(10)]\n",
    "# [0, 0, 4, 0,  16, 0, 36, 0, 64, 0]\n",
    "```"
   ]
  },
  {
   "cell_type": "markdown",
   "id": "c1d08422",
   "metadata": {},
   "source": [
    "### Dictionary comprehensions\n",
    "\n",
    "- We can also write dictionary comprehensions to create new dictionaries from iterables.\n",
    "- The syntax is almost the same as in list comprehensions and there are 2 differences.\n",
    "    1) We use curly braces instead of square brackets.\n",
    "    2) The key and value are separated by a colon in the output expression.\n",
    "\n",
    "```\n",
    "pos_neg = {num: -num for num in range(9)}\n",
    "print(pos_neg) # dictionary, with {key1: value1,...,key_n: value_n}\n",
    "```"
   ]
  },
  {
   "cell_type": "markdown",
   "id": "c26c5548",
   "metadata": {},
   "source": [
    "## Introduciton to generator expressions"
   ]
  },
  {
   "cell_type": "markdown",
   "id": "ec33f047",
   "metadata": {},
   "source": [
    "### 1. Generator expressions\n",
    "\n",
    "- A generator is like a list comprehension except it does not store the list in memory: it does not construct the list, but is an object we can iterate over to produce elements of the list as required.\n",
    "- The square brackets are replaced with round parentheses.\n",
    "- Example of a list comprehension:\n",
    "```\n",
    "[2 * num for num in range(10)]\n",
    "```\n",
    "\n",
    "- Example of a generator:\n",
    "\n",
    "```\n",
    "(2 * num for num in range(10))\n",
    "```"
   ]
  },
  {
   "cell_type": "markdown",
   "id": "9e652689",
   "metadata": {},
   "source": [
    "### 2. Printing values from generators\n",
    "\n",
    "- We can also pass a generator to the function list to create an iterable.\n",
    "\n",
    "```\n",
    "result = (num for num in range(6))\n",
    "print(list(result))\n",
    "```"
   ]
  },
  {
   "cell_type": "markdown",
   "id": "2ae5ffa9",
   "metadata": {},
   "source": [
    "### 3. Conditionals in generator expressions\n",
    "\n",
    "- Anything we can do in a list comprehension such as filtering and applying conditionals.\n",
    "\n",
    "```\n",
    "even_nums = (num for num in range(10) if num % 2 == 0)\n",
    "print(list(even_nums))\n",
    "```"
   ]
  },
  {
   "cell_type": "markdown",
   "id": "33fdcfa5",
   "metadata": {},
   "source": [
    "#### 4. Generator functions\n",
    "\n",
    "- Functions that, when called, produce generator objects.\n",
    "- Written with the syntax of any other user-defined function, however instead of returning values using the keyword return, they yield sequences of values using the keyword yield.\n",
    "\n",
    "```\n",
    "# sequence.py\n",
    "\n",
    "def num_sequence(n):\n",
    "    \"\"\"Generate values from 0 to n.\"\"\"\n",
    "    i = 0\n",
    "    while i < n:\n",
    "        yield i\n",
    "        i += 1\n",
    "\n",
    "result = num_sequence(5)\n",
    "print(type(result))\n",
    "# <classs 'generator'>\n",
    "\n",
    "for item in result:\n",
    "    print(item)\n",
    "# 0\n",
    "# 1\n",
    "# 2\n",
    "# 3\n",
    "# 4\n",
    "```"
   ]
  }
 ],
 "metadata": {
  "language_info": {
   "name": "python"
  }
 },
 "nbformat": 4,
 "nbformat_minor": 5
}
